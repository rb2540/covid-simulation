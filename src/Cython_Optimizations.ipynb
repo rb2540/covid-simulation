{
 "cells": [
  {
   "cell_type": "markdown",
   "metadata": {},
   "source": [
    "### Cython Optimizations\n",
    "\n",
    "In this notebook, we explore improvements using Numba and Cython."
   ]
  },
  {
   "cell_type": "code",
   "execution_count": 1,
   "metadata": {},
   "outputs": [],
   "source": [
    "import numpy as np\n",
    "from tqdm import tqdm\n",
    "import matplotlib.pyplot as plt"
   ]
  },
  {
   "cell_type": "markdown",
   "metadata": {},
   "source": [
    "### Baseline"
   ]
  },
  {
   "cell_type": "code",
   "execution_count": 339,
   "metadata": {},
   "outputs": [],
   "source": [
    "# Baseline code\n",
    "import numpy as np\n",
    "from tqdm import tqdm\n",
    "import matplotlib.pyplot as plt\n",
    "\n",
    "def plot_SIR_curve(infected_pop_norm, susceptible_pop_norm, recovered_pop_norm, days):\n",
    "    # plot results and save the plot\n",
    "    fig = plt.figure()\n",
    "    ax = plt.axes()\n",
    "    ax.spines['right'].set_visible(False)\n",
    "    ax.spines['top'].set_visible(False)\n",
    "    ax.spines['left'].set_visible(False)\n",
    "    ax.plot(np.arange(days), susceptible_pop_norm, label='Susceptible', color='#4aa5f0', linewidth=2)\n",
    "    ax.plot(np.arange(days), infected_pop_norm, label='Infected', color='#f03737', linewidth=2)\n",
    "    ax.plot(np.arange(days), recovered_pop_norm, label='Recovered', color='#82e88a', linewidth=2)\n",
    "    ax.legend(frameon=False)\n",
    "    ax.set_xlabel(\"Days\")\n",
    "    ax.set_ylabel(\"Share of Population\")\n",
    "    ax.figure.savefig('figures/sir_plot.png')\n",
    "    plt.close()\n",
    "\n",
    "def run_simulation(beta, gamma, public_trans, thresh, days, OD_path):\n",
    "    OD = np.genfromtxt(OD_path, delimiter=',')\n",
    "    # initialize the population vector from the origin-destination flow matrix\n",
    "    N_k = np.abs(np.diagonal(OD) + OD.sum(axis=0) - OD.sum(axis=1))\n",
    "    locs_len = len(N_k)                 # number of locations\n",
    "    SIR = np.zeros(shape=(locs_len, 3)) # make a numpy array with 3 columns for keeping track of the S, I, R groups\n",
    "    SIR[:,0] = N_k                      # initialize the S group with the respective populations\n",
    "    thresh=200\n",
    "    first_infections = np.where(SIR[:, 0]<=thresh, SIR[:, 0]//20, 0)   # for demo purposes, randomly introduce infections\n",
    "    # NOTE: this is arbitrary but not actually random.... \n",
    "    SIR[:, 0] = SIR[:, 0] - first_infections\n",
    "    SIR[:, 1] = SIR[:, 1] + first_infections                           # move infections to the I group\n",
    "\n",
    "    # row normalize the SIR matrix for keeping track of group proportions\n",
    "    row_sums = SIR.sum(axis=1)\n",
    "    SIR_n = SIR / row_sums[:, np.newaxis]\n",
    "    \n",
    "    R0 = beta/gamma\n",
    "    beta_vec = np.random.gamma(1.6, 2, locs_len)\n",
    "    gamma_vec = np.full(locs_len, gamma)\n",
    "    public_trans_vec = np.full(locs_len, public_trans)\n",
    "\n",
    "    # make copy of the SIR matrices \n",
    "    SIR_sim = SIR.copy()\n",
    "    SIR_nsim = SIR_n.copy()\n",
    "\n",
    "    # run model\n",
    "    #print(SIR_sim.sum(axis=0).sum() == N_k.sum())\n",
    "    infected_pop_norm = []\n",
    "    susceptible_pop_norm = []\n",
    "    recovered_pop_norm = []\n",
    "\n",
    "    for time_step in tqdm(range(days)):\n",
    "        infected_mat = np.array([SIR_nsim[:,1],]*locs_len).transpose()\n",
    "        OD_infected = OD*infected_mat\n",
    "        OD_infected = np.round(OD_infected)\n",
    "        inflow_infected = OD_infected.sum(axis=0)\n",
    "        inflow_infected = np.round(inflow_infected*public_trans_vec)\n",
    "        #print('total infected inflow: ', inflow_infected.sum())\n",
    "        new_infect = beta_vec*SIR_sim[:, 0]*inflow_infected/(N_k + OD.sum(axis=0))\n",
    "        new_recovered = gamma_vec*SIR_sim[:, 1]\n",
    "        new_infect = np.where(new_infect>SIR_sim[:, 0], SIR_sim[:, 0], new_infect)\n",
    "        SIR_sim[:, 0] = SIR_sim[:, 0] - new_infect\n",
    "        SIR_sim[:, 1] = SIR_sim[:, 1] + new_infect - new_recovered\n",
    "        SIR_sim[:, 2] = SIR_sim[:, 2] + new_recovered\n",
    "        SIR_sim = np.where(SIR_sim<0,0,SIR_sim)\n",
    "        # recompute the normalized SIR matrix\n",
    "        row_sums = SIR_sim.sum(axis=1)\n",
    "        SIR_nsim = SIR_sim / row_sums[:, np.newaxis]\n",
    "        S = SIR_sim[:,0].sum()/N_k.sum()\n",
    "        I = SIR_sim[:,1].sum()/N_k.sum()\n",
    "        R = SIR_sim[:,2].sum()/N_k.sum()\n",
    "        #print(S, I, R, (S+I+R)*N_k.sum(), N_k.sum())\n",
    "        #print('\\n')\n",
    "        infected_pop_norm.append(I)\n",
    "        susceptible_pop_norm.append(S)\n",
    "        recovered_pop_norm.append(R)\n",
    "    \n",
    "    plot_SIR_curve(infected_pop_norm, susceptible_pop_norm, recovered_pop_norm, days)\n",
    "    return infected_pop_norm, susceptible_pop_norm, recovered_pop_norm\n",
    "\n"
   ]
  },
  {
   "cell_type": "code",
   "execution_count": 340,
   "metadata": {},
   "outputs": [
    {
     "name": "stderr",
     "output_type": "stream",
     "text": [
      "100%|██████████| 100/100 [00:07<00:00, 13.96it/s]\n",
      "100%|██████████| 100/100 [00:05<00:00, 15.89it/s]\n",
      "100%|██████████| 100/100 [00:06<00:00, 16.95it/s]\n",
      "100%|██████████| 100/100 [00:06<00:00, 15.80it/s]\n",
      "100%|██████████| 100/100 [00:06<00:00, 15.47it/s]\n",
      "100%|██████████| 100/100 [00:06<00:00, 15.80it/s]\n",
      "100%|██████████| 100/100 [00:06<00:00, 16.00it/s]\n",
      "100%|██████████| 100/100 [00:06<00:00, 15.64it/s]\n",
      "100%|██████████| 100/100 [00:06<00:00, 16.53it/s]\n",
      "100%|██████████| 100/100 [00:06<00:00, 15.69it/s]\n",
      "100%|██████████| 100/100 [00:06<00:00, 15.96it/s]\n",
      "100%|██████████| 100/100 [00:06<00:00, 17.66it/s]\n",
      "100%|██████████| 100/100 [00:06<00:00, 15.84it/s]\n",
      "100%|██████████| 100/100 [00:06<00:00, 15.69it/s]\n",
      "100%|██████████| 100/100 [00:07<00:00, 10.23it/s]\n",
      "100%|██████████| 100/100 [00:06<00:00, 16.25it/s]\n",
      "100%|██████████| 100/100 [00:06<00:00, 16.11it/s]\n",
      "100%|██████████| 100/100 [00:06<00:00, 16.71it/s]\n",
      "100%|██████████| 100/100 [00:06<00:00, 16.34it/s]\n",
      "100%|██████████| 100/100 [00:06<00:00, 15.92it/s]\n",
      "100%|██████████| 100/100 [00:06<00:00, 15.80it/s]\n"
     ]
    },
    {
     "name": "stdout",
     "output_type": "stream",
     "text": [
      "8.64 s ± 222 ms per loop (mean ± std. dev. of 7 runs, 3 loops each)\n"
     ]
    }
   ],
   "source": [
    "%timeit -n 3 run_simulation(1.6, 0.04, 0.5, 200, 100, 'data/Yerevan_OD_coronavirus.csv')"
   ]
  },
  {
   "cell_type": "markdown",
   "metadata": {},
   "source": [
    "The baseline code with minor restructuring has an average run time is 8.64s."
   ]
  },
  {
   "cell_type": "code",
   "execution_count": 273,
   "metadata": {},
   "outputs": [
    {
     "name": "stdout",
     "output_type": "stream",
     "text": [
      "The line_profiler extension is already loaded. To reload it, use:\n",
      "  %reload_ext line_profiler\n"
     ]
    }
   ],
   "source": [
    "# Figure out which part of the code is taking the longest using lprun\n",
    "%load_ext line_profiler"
   ]
  },
  {
   "cell_type": "code",
   "execution_count": 338,
   "metadata": {},
   "outputs": [
    {
     "name": "stderr",
     "output_type": "stream",
     "text": [
      "100%|██████████| 100/100 [00:05<00:00, 17.31it/s]\n"
     ]
    }
   ],
   "source": [
    "%lprun -f run_simulation (I, S, R) = run_simulation(1.6, 0.04, 0.5, 200, 100, 'data/Yerevan_OD_coronavirus.csv')"
   ]
  },
  {
   "cell_type": "markdown",
   "metadata": {},
   "source": [
    "Timer unit: 1e-06 s\n",
    "\n",
    "Total time: 9.7423 s\n",
    "File: <ipython-input-337-84860c97039b>\n",
    "Function: run_simulation at line 22\n",
    "\n",
    "Line #      Hits         Time  Per Hit   % Time  Line Contents\n",
    "==============================================================\n",
    "    22                                           def run_simulation(beta, gamma, public_trans, thresh, days, OD_path):\n",
    "    23         1    3818488.0 3818488.0     39.2      OD = np.genfromtxt(OD_path, delimiter=',')\n",
    "    24                                               # initialize the population vector from the origin-destination flow matrix\n",
    "    25         1       4288.0   4288.0      0.0      N_k = np.abs(np.diagonal(OD) + OD.sum(axis=0) - OD.sum(axis=1))\n",
    "    26         1          2.0      2.0      0.0      locs_len = len(N_k)                 # number of locations\n",
    "    27         1          9.0      9.0      0.0      SIR = np.zeros(shape=(locs_len, 3)) # make a numpy array with 3 columns for keeping track of the S, I, R groups\n",
    "    28         1          6.0      6.0      0.0      SIR[:,0] = N_k                      # initialize the S group with the respective populations\n",
    "    29         1          1.0      1.0      0.0      thresh=200\n",
    "    30         1         91.0     91.0      0.0      first_infections = np.where(SIR[:, 0]<=thresh, SIR[:, 0]//20, 0)   # for demo purposes, randomly introduce infections\n",
    "    31                                               # NOTE: this is arbitrary but not actually random.... \n",
    "    32         1          9.0      9.0      0.0      SIR[:, 0] = SIR[:, 0] - first_infections\n",
    "    33         1          7.0      7.0      0.0      SIR[:, 1] = SIR[:, 1] + first_infections                           # move infections to the I group\n",
    "    34                                           \n",
    "    35                                               # row normalize the SIR matrix for keeping track of group proportions\n",
    "    36         1         41.0     41.0      0.0      row_sums = SIR.sum(axis=1)\n",
    "    37         1         20.0     20.0      0.0      SIR_n = SIR / row_sums[:, np.newaxis]\n",
    "    38                                               \n",
    "    39         1          1.0      1.0      0.0      R0 = beta/gamma\n",
    "    40         1        137.0    137.0      0.0      beta_vec = np.random.gamma(1.6, 2, locs_len)\n",
    "    41         1         17.0     17.0      0.0      gamma_vec = np.full(locs_len, gamma)\n",
    "    42         1          8.0      8.0      0.0      public_trans_vec = np.full(locs_len, public_trans)\n",
    "    43                                           \n",
    "    44                                               # make copy of the SIR matrices \n",
    "    45         1          5.0      5.0      0.0      SIR_sim = SIR.copy()\n",
    "    46         1          5.0      5.0      0.0      SIR_nsim = SIR_n.copy()\n",
    "    47                                           \n",
    "    48                                               # run model\n",
    "    49                                               #print(SIR_sim.sum(axis=0).sum() == N_k.sum())\n",
    "    50         1          1.0      1.0      0.0      infected_pop_norm = []\n",
    "    51         1          1.0      1.0      0.0      susceptible_pop_norm = []\n",
    "    52         1          1.0      1.0      0.0      recovered_pop_norm = []\n",
    "    53                                           \n",
    "    54       101      49135.0    486.5      0.5      for time_step in tqdm(range(days)):\n",
    "    55       100    1010624.0  10106.2     10.4          infected_mat = np.array([SIR_nsim[:,1],]*locs_len).transpose()\n",
    "    56       100    3254668.0  32546.7     33.4          OD_infected = OD*infected_mat\n",
    "    57       100    1012173.0  10121.7     10.4          OD_infected = np.round(OD_infected)\n",
    "    58       100     238400.0   2384.0      2.4          inflow_infected = OD_infected.sum(axis=0)\n",
    "    59       100       3263.0     32.6      0.0          inflow_infected = np.round(inflow_infected*public_trans_vec)\n",
    "    60                                                   #print('total infected inflow: ', inflow_infected.sum())\n",
    "    61       100     238517.0   2385.2      2.4          new_infect = beta_vec*SIR_sim[:, 0]*inflow_infected/(N_k + OD.sum(axis=0))\n",
    "    62       100       1028.0     10.3      0.0          new_recovered = gamma_vec*SIR_sim[:, 1]\n",
    "    63       100       2066.0     20.7      0.0          new_infect = np.where(new_infect>SIR_sim[:, 0], SIR_sim[:, 0], new_infect)\n",
    "    64       100       1027.0     10.3      0.0          SIR_sim[:, 0] = SIR_sim[:, 0] - new_infect\n",
    "    65       100       1007.0     10.1      0.0          SIR_sim[:, 1] = SIR_sim[:, 1] + new_infect - new_recovered\n",
    "    66       100        716.0      7.2      0.0          SIR_sim[:, 2] = SIR_sim[:, 2] + new_recovered\n",
    "    67       100       2414.0     24.1      0.0          SIR_sim = np.where(SIR_sim<0,0,SIR_sim)\n",
    "    68                                                   # recompute the normalized SIR matrix\n",
    "    69       100       4324.0     43.2      0.0          row_sums = SIR_sim.sum(axis=1)\n",
    "    70       100       2144.0     21.4      0.0          SIR_nsim = SIR_sim / row_sums[:, np.newaxis]\n",
    "    71       100       1662.0     16.6      0.0          S = SIR_sim[:,0].sum()/N_k.sum()\n",
    "    72       100       1037.0     10.4      0.0          I = SIR_sim[:,1].sum()/N_k.sum()\n",
    "    73       100       1003.0     10.0      0.0          R = SIR_sim[:,2].sum()/N_k.sum()\n",
    "    74                                                   #print(S, I, R, (S+I+R)*N_k.sum(), N_k.sum())\n",
    "    75                                                   #print('\\n')\n",
    "    76       100        237.0      2.4      0.0          infected_pop_norm.append(I)\n",
    "    77       100         89.0      0.9      0.0          susceptible_pop_norm.append(S)\n",
    "    78       100        114.0      1.1      0.0          recovered_pop_norm.append(R)\n",
    "    79                                               \n",
    "    80         1      93513.0  93513.0      1.0      plot_SIR_curve(infected_pop_norm, susceptible_pop_norm, recovered_pop_norm, days)\n",
    "    81         1          2.0      2.0      0.0      return infected_pop_norm, susceptible_pop_norm, recovered_pop_norm"
   ]
  },
  {
   "cell_type": "markdown",
   "metadata": {},
   "source": [
    "### Line Profiler Analysis\n",
    "\n",
    "Using lprun, we see that most of the time is spent loading in the Origin-Destination flow matrix (accounts for 39.2% of the time) and computing the element-wise matrix multiplication OD\\*infected_mat and rounding it (accounts for 43.8% of the time). Note that the matrix multiplication occurs in a for-loop that runs multiple times while the loading of the matrix occurs only once. The percentage of time needed to perform all of the matrix multiplications at all of the time steps is roughly the same as the time needed to load in the matrix. We will first focus on trying read the OD matrix faster."
   ]
  },
  {
   "cell_type": "markdown",
   "metadata": {},
   "source": [
    "### Numpy matrix loading"
   ]
  },
  {
   "cell_type": "code",
   "execution_count": 334,
   "metadata": {},
   "outputs": [
    {
     "name": "stdout",
     "output_type": "stream",
     "text": [
      "2.21 s ± 153 ms per loop (mean ± std. dev. of 7 runs, 3 loops each)\n"
     ]
    }
   ],
   "source": [
    "%%timeit -n3\n",
    "OD = np.genfromtxt('data/Yerevan_OD_coronavirus.csv', delimiter=',')"
   ]
  },
  {
   "cell_type": "code",
   "execution_count": 335,
   "metadata": {},
   "outputs": [
    {
     "name": "stdout",
     "output_type": "stream",
     "text": [
      "2.1 s ± 42.1 ms per loop (mean ± std. dev. of 7 runs, 3 loops each)\n"
     ]
    }
   ],
   "source": [
    "%%timeit -n3\n",
    "OD = np.genfromtxt('data/Yerevan_OD_coronavirus.csv', delimiter=',', dtype=np.float64)"
   ]
  },
  {
   "cell_type": "markdown",
   "metadata": {},
   "source": [
    "Using numpy to do the matrix loading, we see that it takes $\\approx 2$s to load in the matrix, even when we tell numpy what type of data the matrix will have."
   ]
  },
  {
   "cell_type": "markdown",
   "metadata": {},
   "source": [
    "### Loading with Pandas"
   ]
  },
  {
   "cell_type": "code",
   "execution_count": 280,
   "metadata": {},
   "outputs": [],
   "source": [
    "import pandas as pd "
   ]
  },
  {
   "cell_type": "code",
   "execution_count": 336,
   "metadata": {},
   "outputs": [
    {
     "name": "stdout",
     "output_type": "stream",
     "text": [
      "398 ms ± 6.68 ms per loop (mean ± std. dev. of 7 runs, 3 loops each)\n"
     ]
    }
   ],
   "source": [
    "%%timeit -n3\n",
    "OD = pd.read_csv('data/Yerevan_OD_coronavirus.csv', header=None, dtype=np.float64).to_numpy()"
   ]
  },
  {
   "cell_type": "markdown",
   "metadata": {},
   "source": [
    "Using the pandas library to read in the csv file and then converting it to a numpy array proves to be significantly faster ($\\approx 7$x)."
   ]
  },
  {
   "cell_type": "markdown",
   "metadata": {},
   "source": [
    "### Improving Matrix Multiplication - Cython"
   ]
  },
  {
   "cell_type": "code",
   "execution_count": 302,
   "metadata": {},
   "outputs": [
    {
     "name": "stdout",
     "output_type": "stream",
     "text": [
      "The Cython extension is already loaded. To reload it, use:\n",
      "  %reload_ext Cython\n"
     ]
    }
   ],
   "source": [
    "%load_ext Cython"
   ]
  },
  {
   "cell_type": "code",
   "execution_count": 325,
   "metadata": {},
   "outputs": [],
   "source": [
    "%%cython\n",
    "\n",
    "# cython: profile=True\n",
    "# cython: linetrace=True\n",
    "# cython: binding=True\n",
    "# distutils: define_macros=CYTHON_TRACE_NOGIL=1\n",
    "\n",
    "import numpy as np\n",
    "from tqdm import tqdm\n",
    "import matplotlib.pyplot as plt\n",
    "\n",
    "def plot_SIR_curve(infected_pop_norm, susceptible_pop_norm, recovered_pop_norm, days):\n",
    "    # plot results and save the plot\n",
    "    fig = plt.figure()\n",
    "    ax = plt.axes()\n",
    "    ax.spines['right'].set_visible(False)\n",
    "    ax.spines['top'].set_visible(False)\n",
    "    ax.spines['left'].set_visible(False)\n",
    "    ax.plot(np.arange(days), susceptible_pop_norm, label='Susceptible', color='#4aa5f0', linewidth=2)\n",
    "    ax.plot(np.arange(days), infected_pop_norm, label='Infected', color='#f03737', linewidth=2)\n",
    "    ax.plot(np.arange(days), recovered_pop_norm, label='Recovered', color='#82e88a', linewidth=2)\n",
    "    ax.legend(frameon=False)\n",
    "    ax.set_xlabel(\"Days\")\n",
    "    ax.set_ylabel(\"Share of Population\")\n",
    "    ax.figure.savefig('figures/sir_plot.png')\n",
    "    plt.close()\n",
    "\n",
    "def run_simulation(beta, gamma, public_trans, thresh, days, OD_path):\n",
    "    OD = np.genfromtxt(OD_path, delimiter=',')\n",
    "    # initialize the population vector from the origin-destination flow matrix\n",
    "    N_k = np.abs(np.diagonal(OD) + OD.sum(axis=0) - OD.sum(axis=1))\n",
    "    locs_len = len(N_k)                 # number of locations\n",
    "    SIR = np.zeros(shape=(locs_len, 3)) # make a numpy array with 3 columns for keeping track of the S, I, R groups\n",
    "    SIR[:,0] = N_k                      # initialize the S group with the respective populations\n",
    "    thresh=200\n",
    "    first_infections = np.where(SIR[:, 0]<=thresh, SIR[:, 0]//20, 0)   # for demo purposes, randomly introduce infections\n",
    "    # NOTE: this is arbitrary but not actually random.... \n",
    "    SIR[:, 0] = SIR[:, 0] - first_infections\n",
    "    SIR[:, 1] = SIR[:, 1] + first_infections                           # move infections to the I group\n",
    "\n",
    "    # row normalize the SIR matrix for keeping track of group proportions\n",
    "    row_sums = SIR.sum(axis=1)\n",
    "    SIR_n = SIR / row_sums[:, np.newaxis]\n",
    "    \n",
    "    R0 = beta/gamma\n",
    "    beta_vec = np.random.gamma(1.6, 2, locs_len)\n",
    "    gamma_vec = np.full(locs_len, gamma)\n",
    "    public_trans_vec = np.full(locs_len, public_trans)\n",
    "\n",
    "    # make copy of the SIR matrices \n",
    "    SIR_sim = SIR.copy()\n",
    "    SIR_nsim = SIR_n.copy()\n",
    "\n",
    "    # run model\n",
    "    #print(SIR_sim.sum(axis=0).sum() == N_k.sum())\n",
    "    infected_pop_norm = []\n",
    "    susceptible_pop_norm = []\n",
    "    recovered_pop_norm = []\n",
    "\n",
    "    for time_step in tqdm(range(days)):\n",
    "        infected_mat = np.array([SIR_nsim[:,1],]*locs_len).transpose()\n",
    "        OD_infected = OD*infected_mat\n",
    "        OD_infected = np.round(OD_infected)\n",
    "        inflow_infected = OD_infected.sum(axis=0)\n",
    "        inflow_infected = np.round(inflow_infected*public_trans_vec)\n",
    "        #print('total infected inflow: ', inflow_infected.sum())\n",
    "        new_infect = beta_vec*SIR_sim[:, 0]*inflow_infected/(N_k + OD.sum(axis=0))\n",
    "        new_recovered = gamma_vec*SIR_sim[:, 1]\n",
    "        new_infect = np.where(new_infect>SIR_sim[:, 0], SIR_sim[:, 0], new_infect)\n",
    "        SIR_sim[:, 0] = SIR_sim[:, 0] - new_infect\n",
    "        SIR_sim[:, 1] = SIR_sim[:, 1] + new_infect - new_recovered\n",
    "        SIR_sim[:, 2] = SIR_sim[:, 2] + new_recovered\n",
    "        SIR_sim = np.where(SIR_sim<0,0,SIR_sim)\n",
    "        # recompute the normalized SIR matrix\n",
    "        row_sums = SIR_sim.sum(axis=1)\n",
    "        SIR_nsim = SIR_sim / row_sums[:, np.newaxis]\n",
    "        S = SIR_sim[:,0].sum()/N_k.sum()\n",
    "        I = SIR_sim[:,1].sum()/N_k.sum()\n",
    "        R = SIR_sim[:,2].sum()/N_k.sum()\n",
    "        #print(S, I, R, (S+I+R)*N_k.sum(), N_k.sum())\n",
    "        #print('\\n')\n",
    "        infected_pop_norm.append(I)\n",
    "        susceptible_pop_norm.append(S)\n",
    "        recovered_pop_norm.append(R)\n",
    "    \n",
    "    plot_SIR_curve(infected_pop_norm, susceptible_pop_norm, recovered_pop_norm, days)\n",
    "    return infected_pop_norm, susceptible_pop_norm, recovered_pop_norm"
   ]
  },
  {
   "cell_type": "code",
   "execution_count": 326,
   "metadata": {},
   "outputs": [
    {
     "name": "stderr",
     "output_type": "stream",
     "text": [
      "100%|██████████| 100/100 [00:05<00:00, 17.57it/s]\n",
      "100%|██████████| 100/100 [00:06<00:00, 11.62it/s]\n",
      "100%|██████████| 100/100 [00:05<00:00, 17.83it/s]\n",
      "100%|██████████| 100/100 [00:06<00:00, 16.28it/s]\n",
      "100%|██████████| 100/100 [00:06<00:00, 16.42it/s]\n",
      "100%|██████████| 100/100 [00:06<00:00, 16.26it/s]\n",
      "100%|██████████| 100/100 [00:06<00:00, 16.60it/s]\n",
      "100%|██████████| 100/100 [00:06<00:00, 16.25it/s]\n",
      "100%|██████████| 100/100 [00:06<00:00, 16.07it/s]\n",
      "100%|██████████| 100/100 [00:05<00:00, 16.97it/s]\n",
      "100%|██████████| 100/100 [00:06<00:00, 16.22it/s]\n",
      "100%|██████████| 100/100 [00:06<00:00, 16.43it/s]\n",
      "100%|██████████| 100/100 [00:06<00:00, 16.69it/s]\n",
      "100%|██████████| 100/100 [00:06<00:00, 15.92it/s]\n",
      "100%|██████████| 100/100 [00:06<00:00, 16.17it/s]\n",
      "100%|██████████| 100/100 [00:06<00:00, 16.23it/s]\n",
      "100%|██████████| 100/100 [00:06<00:00, 16.24it/s]\n",
      "100%|██████████| 100/100 [00:06<00:00, 16.27it/s]\n",
      "100%|██████████| 100/100 [00:05<00:00, 19.79it/s]\n",
      "100%|██████████| 100/100 [00:06<00:00, 16.13it/s]\n",
      "100%|██████████| 100/100 [00:06<00:00, 15.63it/s]\n"
     ]
    },
    {
     "name": "stdout",
     "output_type": "stream",
     "text": [
      "8.19 s ± 134 ms per loop (mean ± std. dev. of 7 runs, 3 loops each)\n"
     ]
    }
   ],
   "source": [
    "%timeit -n 3 run_simulation(1.6, 0.04, 0.5, 200, 100, 'data/Yerevan_OD_coronavirus.csv')"
   ]
  },
  {
   "cell_type": "markdown",
   "metadata": {},
   "source": [
    "We see a slight speed up when compiling with Cython without specifying the types of the variables."
   ]
  },
  {
   "cell_type": "markdown",
   "metadata": {},
   "source": [
    "### Cython - Specifying Types"
   ]
  },
  {
   "cell_type": "code",
   "execution_count": 323,
   "metadata": {},
   "outputs": [],
   "source": [
    "%%cython\n",
    "\n",
    "# cython: profile=True\n",
    "# cython: linetrace=True\n",
    "# cython: binding=True\n",
    "# distutils: define_macros=CYTHON_TRACE_NOGIL=1\n",
    "\n",
    "import numpy as np\n",
    "cimport numpy as np \n",
    "from tqdm import tqdm\n",
    "import matplotlib.pyplot as plt\n",
    "\n",
    "def plot_SIR_curve(np.ndarray[np.float64_t, ndim=1] infected_pop_norm, np.ndarray[np.float64_t, ndim=1] susceptible_pop_norm, np.ndarray[np.float64_t, ndim=1] recovered_pop_norm, int days):\n",
    "    # plot results and save the plot\n",
    "    fig = plt.figure()\n",
    "    ax = plt.axes()\n",
    "    ax.spines['right'].set_visible(False)\n",
    "    ax.spines['top'].set_visible(False)\n",
    "    ax.spines['left'].set_visible(False)\n",
    "    ax.plot(np.arange(days), susceptible_pop_norm, label='Susceptible', color='#4aa5f0', linewidth=2)\n",
    "    ax.plot(np.arange(days), infected_pop_norm, label='Infected', color='#f03737', linewidth=2)\n",
    "    ax.plot(np.arange(days), recovered_pop_norm, label='Recovered', color='#82e88a', linewidth=2)\n",
    "    ax.legend(frameon=False)\n",
    "    ax.set_xlabel(\"Days\")\n",
    "    ax.set_ylabel(\"Share of Population\")\n",
    "    ax.figure.savefig('figures/sir_plot.png')\n",
    "    plt.close()\n",
    "\n",
    "def run_simulation(np.float64_t beta, np.float64_t gamma, np.float64_t public_trans, int thresh, int days, str OD_path):\n",
    "    cdef np.ndarray[np.float64_t, ndim=2] OD, SIR, SIR_n, SIR_sim, SIR_nsim, infected_mat, OD_infected \n",
    "    cdef np.ndarray[np.float64_t, ndim=1] N_k, first_infections, row_sums, beta_vec, gamma_vec, public_trans_vec, inflow_infected, new_infect, new_recovered\n",
    "    cdef int locs_len, time_step\n",
    "    cdef np.float64_t R0, S, I, R\n",
    "    cdef np.ndarray[np.float64_t, ndim=1] infected_pop_norm, susceptible_pop_norm, recovered_pop_norm \n",
    "    \n",
    "    OD = np.genfromtxt(OD_path, delimiter=',')\n",
    "    # initialize the population vector from the origin-destination flow matrix\n",
    "    N_k = np.abs(np.diagonal(OD) + OD.sum(axis=0) - OD.sum(axis=1))\n",
    "    locs_len = len(N_k)                 # number of locations\n",
    "    SIR = np.zeros(shape=(locs_len, 3)) # make a numpy array with 3 columns for keeping track of the S, I, R groups\n",
    "    SIR[:,0] = N_k                      # initialize the S group with the respective populations\n",
    "    thresh=200\n",
    "    first_infections = np.where(SIR[:, 0]<=thresh, SIR[:, 0]//20, 0)   # for demo purposes, randomly introduce infections\n",
    "    # NOTE: this is arbitrary but not actually random.... \n",
    "    SIR[:, 0] = SIR[:, 0] - first_infections\n",
    "    SIR[:, 1] = SIR[:, 1] + first_infections                           # move infections to the I group\n",
    "\n",
    "    # row normalize the SIR matrix for keeping track of group proportions\n",
    "    row_sums = SIR.sum(axis=1)\n",
    "    SIR_n = SIR / row_sums[:, np.newaxis]\n",
    "    \n",
    "    R0 = beta/gamma\n",
    "    beta_vec = np.random.gamma(1.6, 2, locs_len)\n",
    "    gamma_vec = np.full(locs_len, gamma)\n",
    "    public_trans_vec = np.full(locs_len, public_trans)\n",
    "\n",
    "    # make copy of the SIR matrices \n",
    "    SIR_sim = SIR.copy()\n",
    "    SIR_nsim = SIR_n.copy()\n",
    "\n",
    "    # run model\n",
    "    #print(SIR_sim.sum(axis=0).sum() == N_k.sum())\n",
    "    infected_pop_norm = np.zeros(days)\n",
    "    susceptible_pop_norm = np.zeros(days)\n",
    "    recovered_pop_norm = np.zeros(days)\n",
    "\n",
    "    for time_step in tqdm(range(days)):\n",
    "        infected_mat = np.array([SIR_nsim[:,1],]*locs_len).transpose()\n",
    "        OD_infected = OD*infected_mat\n",
    "        OD_infected = np.round(OD_infected)\n",
    "        inflow_infected = OD_infected.sum(axis=0)\n",
    "        inflow_infected = np.round(inflow_infected*public_trans_vec)\n",
    "        #print('total infected inflow: ', inflow_infected.sum())\n",
    "        new_infect = beta_vec*SIR_sim[:, 0]*inflow_infected/(N_k + OD.sum(axis=0))\n",
    "        new_recovered = gamma_vec*SIR_sim[:, 1]\n",
    "        new_infect = np.where(new_infect>SIR_sim[:, 0], SIR_sim[:, 0], new_infect)\n",
    "        SIR_sim[:, 0] = SIR_sim[:, 0] - new_infect\n",
    "        SIR_sim[:, 1] = SIR_sim[:, 1] + new_infect - new_recovered\n",
    "        SIR_sim[:, 2] = SIR_sim[:, 2] + new_recovered\n",
    "        SIR_sim = np.where(SIR_sim<0,0,SIR_sim)\n",
    "        # recompute the normalized SIR matrix\n",
    "        row_sums = SIR_sim.sum(axis=1)\n",
    "        SIR_nsim = SIR_sim / row_sums[:, np.newaxis]\n",
    "        S = SIR_sim[:,0].sum()/N_k.sum()\n",
    "        I = SIR_sim[:,1].sum()/N_k.sum()\n",
    "        R = SIR_sim[:,2].sum()/N_k.sum()\n",
    "        #print(S, I, R, (S+I+R)*N_k.sum(), N_k.sum())\n",
    "        #print('\\n')\n",
    "        infected_pop_norm[time_step] = I \n",
    "        susceptible_pop_norm[time_step] = S \n",
    "        recovered_pop_norm[time_step] = R\n",
    "    \n",
    "    plot_SIR_curve(infected_pop_norm, susceptible_pop_norm, recovered_pop_norm, days)\n",
    "    return infected_pop_norm, susceptible_pop_norm, recovered_pop_norm"
   ]
  },
  {
   "cell_type": "code",
   "execution_count": 324,
   "metadata": {},
   "outputs": [
    {
     "name": "stderr",
     "output_type": "stream",
     "text": [
      "100%|██████████| 100/100 [00:05<00:00, 17.15it/s]\n",
      "100%|██████████| 100/100 [00:05<00:00, 17.01it/s]\n",
      "100%|██████████| 100/100 [00:06<00:00, 16.54it/s]\n",
      "100%|██████████| 100/100 [00:06<00:00, 16.24it/s]\n",
      "100%|██████████| 100/100 [00:06<00:00, 16.71it/s]\n",
      "100%|██████████| 100/100 [00:06<00:00, 16.07it/s]\n",
      "100%|██████████| 100/100 [00:06<00:00, 16.30it/s]\n",
      "100%|██████████| 100/100 [00:06<00:00, 15.37it/s]\n",
      "100%|██████████| 100/100 [00:05<00:00, 17.19it/s]\n",
      "100%|██████████| 100/100 [00:06<00:00, 16.84it/s]\n",
      "100%|██████████| 100/100 [00:06<00:00, 16.19it/s]\n",
      "100%|██████████| 100/100 [00:06<00:00, 16.16it/s]\n",
      "100%|██████████| 100/100 [00:06<00:00, 16.28it/s]\n",
      "100%|██████████| 100/100 [00:06<00:00, 16.55it/s]\n",
      "100%|██████████| 100/100 [00:06<00:00, 16.24it/s]\n",
      "100%|██████████| 100/100 [00:06<00:00, 16.44it/s]\n",
      "100%|██████████| 100/100 [00:06<00:00, 16.01it/s]\n",
      "100%|██████████| 100/100 [00:06<00:00, 16.28it/s]\n",
      "100%|██████████| 100/100 [00:06<00:00, 15.86it/s]\n",
      "100%|██████████| 100/100 [00:06<00:00, 16.18it/s]\n",
      "100%|██████████| 100/100 [00:06<00:00, 16.26it/s]\n"
     ]
    },
    {
     "name": "stdout",
     "output_type": "stream",
     "text": [
      "8.18 s ± 78.8 ms per loop (mean ± std. dev. of 7 runs, 3 loops each)\n"
     ]
    }
   ],
   "source": [
    "%timeit -n 3 run_simulation(1.6, 0.04, 0.5, 200, 100, 'data/Yerevan_OD_coronavirus.csv')"
   ]
  },
  {
   "cell_type": "markdown",
   "metadata": {},
   "source": [
    "Negligible difference in performance between basic cython compilation and specifying types. "
   ]
  },
  {
   "cell_type": "markdown",
   "metadata": {},
   "source": [
    "### Cython + Faster Matrix Loading + Removing tqdm"
   ]
  },
  {
   "cell_type": "code",
   "execution_count": 3,
   "metadata": {},
   "outputs": [
    {
     "name": "stderr",
     "output_type": "stream",
     "text": [
      "UsageError: Cell magic `%%cython` not found.\n"
     ]
    }
   ],
   "source": [
    "%%cython\n",
    "\n",
    "# cython: profile=True\n",
    "# cython: linetrace=True\n",
    "# cython: binding=True\n",
    "# distutils: define_macros=CYTHON_TRACE_NOGIL=1\n",
    "\n",
    "import pandas as pd \n",
    "import numpy as np\n",
    "cimport numpy as np \n",
    "import matplotlib.pyplot as plt\n",
    "\n",
    "def plot_SIR_curve(np.ndarray[np.float64_t, ndim=1] infected_pop_norm, np.ndarray[np.float64_t, ndim=1] susceptible_pop_norm, np.ndarray[np.float64_t, ndim=1] recovered_pop_norm, int days):\n",
    "    # plot results and save the plot\n",
    "    fig = plt.figure()\n",
    "    ax = plt.axes()\n",
    "    ax.spines['right'].set_visible(False)\n",
    "    ax.spines['top'].set_visible(False)\n",
    "    ax.spines['left'].set_visible(False)\n",
    "    ax.plot(np.arange(days), susceptible_pop_norm, label='Susceptible', color='#4aa5f0', linewidth=2)\n",
    "    ax.plot(np.arange(days), infected_pop_norm, label='Infected', color='#f03737', linewidth=2)\n",
    "    ax.plot(np.arange(days), recovered_pop_norm, label='Recovered', color='#82e88a', linewidth=2)\n",
    "    ax.legend(frameon=False)\n",
    "    ax.set_xlabel(\"Days\")\n",
    "    ax.set_ylabel(\"Share of Population\")\n",
    "    ax.figure.savefig('figures/sir_plot.png')\n",
    "    plt.close()\n",
    "\n",
    "def run_simulation(np.float64_t beta, np.float64_t gamma, np.float64_t public_trans, int thresh, int days, str OD_path):\n",
    "    cdef np.ndarray[np.float64_t, ndim=2] OD, SIR, SIR_n, SIR_sim, SIR_nsim, infected_mat, OD_infected \n",
    "    cdef np.ndarray[np.float64_t, ndim=1] N_k, first_infections, row_sums, beta_vec, gamma_vec, public_trans_vec, inflow_infected, new_infect, new_recovered\n",
    "    cdef int locs_len, time_step\n",
    "    cdef np.float64_t R0, S, I, R\n",
    "    cdef np.ndarray[np.float64_t, ndim=1] infected_pop_norm, susceptible_pop_norm, recovered_pop_norm \n",
    "    \n",
    "    OD = pd.read_csv(OD_path, header=None, dtype=np.float64).to_numpy()\n",
    "    # initialize the population vector from the origin-destination flow matrix\n",
    "    N_k = np.abs(np.diagonal(OD) + OD.sum(axis=0) - OD.sum(axis=1))\n",
    "    locs_len = len(N_k)                 # number of locations\n",
    "    SIR = np.zeros(shape=(locs_len, 3)) # make a numpy array with 3 columns for keeping track of the S, I, R groups\n",
    "    SIR[:,0] = N_k                      # initialize the S group with the respective populations\n",
    "    thresh=200\n",
    "    first_infections = np.where(SIR[:, 0]<=thresh, SIR[:, 0]//20, 0)   # for demo purposes, randomly introduce infections\n",
    "    # NOTE: this is arbitrary but not actually random.... \n",
    "    SIR[:, 0] = SIR[:, 0] - first_infections\n",
    "    SIR[:, 1] = SIR[:, 1] + first_infections                           # move infections to the I group\n",
    "\n",
    "    # row normalize the SIR matrix for keeping track of group proportions\n",
    "    row_sums = SIR.sum(axis=1)\n",
    "    SIR_n = SIR / row_sums[:, np.newaxis]\n",
    "    \n",
    "    R0 = beta/gamma\n",
    "    beta_vec = np.random.gamma(1.6, 2, locs_len)\n",
    "    gamma_vec = np.full(locs_len, gamma)\n",
    "    public_trans_vec = np.full(locs_len, public_trans)\n",
    "\n",
    "    # make copy of the SIR matrices \n",
    "    SIR_sim = SIR.copy()\n",
    "    SIR_nsim = SIR_n.copy()\n",
    "\n",
    "    # run model\n",
    "    #print(SIR_sim.sum(axis=0).sum() == N_k.sum())\n",
    "    infected_pop_norm = np.zeros(days)\n",
    "    susceptible_pop_norm = np.zeros(days)\n",
    "    recovered_pop_norm = np.zeros(days)\n",
    "\n",
    "    for time_step in range(days):\n",
    "        infected_mat = np.array([SIR_nsim[:,1],]*locs_len).transpose()\n",
    "        OD_infected = OD*infected_mat\n",
    "        OD_infected = np.round(OD_infected)\n",
    "        inflow_infected = OD_infected.sum(axis=0)\n",
    "        inflow_infected = np.round(inflow_infected*public_trans_vec)\n",
    "        #print('total infected inflow: ', inflow_infected.sum())\n",
    "        new_infect = beta_vec*SIR_sim[:, 0]*inflow_infected/(N_k + OD.sum(axis=0))\n",
    "        new_recovered = gamma_vec*SIR_sim[:, 1]\n",
    "        new_infect = np.where(new_infect>SIR_sim[:, 0], SIR_sim[:, 0], new_infect)\n",
    "        SIR_sim[:, 0] = SIR_sim[:, 0] - new_infect\n",
    "        SIR_sim[:, 1] = SIR_sim[:, 1] + new_infect - new_recovered\n",
    "        SIR_sim[:, 2] = SIR_sim[:, 2] + new_recovered\n",
    "        SIR_sim = np.where(SIR_sim<0,0,SIR_sim)\n",
    "        # recompute the normalized SIR matrix\n",
    "        row_sums = SIR_sim.sum(axis=1)\n",
    "        SIR_nsim = SIR_sim / row_sums[:, np.newaxis]\n",
    "        S = SIR_sim[:,0].sum()/N_k.sum()\n",
    "        I = SIR_sim[:,1].sum()/N_k.sum()\n",
    "        R = SIR_sim[:,2].sum()/N_k.sum()\n",
    "        #print(S, I, R, (S+I+R)*N_k.sum(), N_k.sum())\n",
    "        #print('\\n')\n",
    "        infected_pop_norm[time_step] = I \n",
    "        susceptible_pop_norm[time_step] = S \n",
    "        recovered_pop_norm[time_step] = R\n",
    "    \n",
    "    plot_SIR_curve(infected_pop_norm, susceptible_pop_norm, recovered_pop_norm, days)\n",
    "    return infected_pop_norm, susceptible_pop_norm, recovered_pop_norm"
   ]
  },
  {
   "cell_type": "code",
   "execution_count": 328,
   "metadata": {},
   "outputs": [
    {
     "name": "stdout",
     "output_type": "stream",
     "text": [
      "3.71 s ± 67 ms per loop (mean ± std. dev. of 7 runs, 3 loops each)\n"
     ]
    }
   ],
   "source": [
    "%timeit -n 3 run_simulation(1.6, 0.04, 0.5, 200, 100, 'data/Yerevan_OD_coronavirus.csv')"
   ]
  },
  {
   "cell_type": "code",
   "execution_count": 329,
   "metadata": {
    "scrolled": true
   },
   "outputs": [],
   "source": [
    "%lprun -f run_simulation (I, S, R) = run_simulation(1.6, 0.04, 0.5, 200, 100, 'data/Yerevan_OD_coronavirus.csv')"
   ]
  },
  {
   "cell_type": "markdown",
   "metadata": {},
   "source": [
    "Timer unit: 1e-06 s\n",
    "\n",
    "Total time: 3.83334 s\n",
    "File: /Users/benstadnick/.ipython/cython/_cython_magic_1959eba6153881ae8278eed514667ee6.pyx\n",
    "Function: run_simulation at line 28\n",
    "\n",
    "Line #      Hits         Time  Per Hit   % Time  Line Contents\n",
    "==============================================================\n",
    "    28                                           def run_simulation(np.float64_t beta, np.float64_t gamma, np.float64_t public_trans, int thresh, int days, str OD_path):\n",
    "    29                                               cdef np.ndarray[np.float64_t, ndim=2] OD, SIR, SIR_n, SIR_sim, SIR_nsim, infected_mat, OD_infected \n",
    "    30                                               cdef np.ndarray[np.float64_t, ndim=1] N_k, first_infections, row_sums, beta_vec, gamma_vec, public_trans_vec, inflow_infected, new_infect, new_recovered\n",
    "    31                                               cdef int locs_len, time_step\n",
    "    32                                               cdef np.float64_t R0, S, I, R\n",
    "    33                                               cdef np.ndarray[np.float64_t, ndim=1] infected_pop_norm, susceptible_pop_norm, recovered_pop_norm \n",
    "    34                                               \n",
    "    35         1     531322.0 531322.0     13.9      OD = pd.read_csv(OD_path, header=None, dtype=np.float64).to_numpy()\n",
    "    36                                               # initialize the population vector from the origin-destination flow matrix\n",
    "    37         1       3796.0   3796.0      0.1      N_k = np.abs(np.diagonal(OD) + OD.sum(axis=0) - OD.sum(axis=1))\n",
    "    38         1          1.0      1.0      0.0      locs_len = len(N_k)                 # number of locations\n",
    "    39         1          6.0      6.0      0.0      SIR = np.zeros(shape=(locs_len, 3)) # make a numpy array with 3 columns for keeping track of the S, I, R groups\n",
    "    40         1          4.0      4.0      0.0      SIR[:,0] = N_k                      # initialize the S group with the respective populations\n",
    "    41         1          0.0      0.0      0.0      thresh=200\n",
    "    42         1         75.0     75.0      0.0      first_infections = np.where(SIR[:, 0]<=thresh, SIR[:, 0]//20, 0)   # for demo purposes, randomly introduce infections\n",
    "    43                                               # NOTE: this is arbitrary but not actually random.... \n",
    "    44         1          7.0      7.0      0.0      SIR[:, 0] = SIR[:, 0] - first_infections\n",
    "    45         1          6.0      6.0      0.0      SIR[:, 1] = SIR[:, 1] + first_infections                           # move infections to the I group\n",
    "    46                                           \n",
    "    47                                               # row normalize the SIR matrix for keeping track of group proportions\n",
    "    48         1         35.0     35.0      0.0      row_sums = SIR.sum(axis=1)\n",
    "    49         1         19.0     19.0      0.0      SIR_n = SIR / row_sums[:, np.newaxis]\n",
    "    50                                               \n",
    "    51         1          0.0      0.0      0.0      R0 = beta/gamma\n",
    "    52         1        115.0    115.0      0.0      beta_vec = np.random.gamma(1.6, 2, locs_len)\n",
    "    53         1         17.0     17.0      0.0      gamma_vec = np.full(locs_len, gamma)\n",
    "    54         1          8.0      8.0      0.0      public_trans_vec = np.full(locs_len, public_trans)\n",
    "    55                                           \n",
    "    56                                               # make copy of the SIR matrices \n",
    "    57         1          6.0      6.0      0.0      SIR_sim = SIR.copy()\n",
    "    58         1          5.0      5.0      0.0      SIR_nsim = SIR_n.copy()\n",
    "    59                                           \n",
    "    60                                               # run model\n",
    "    61                                               #print(SIR_sim.sum(axis=0).sum() == N_k.sum())\n",
    "    62         1          3.0      3.0      0.0      infected_pop_norm = np.zeros(days)\n",
    "    63         1          3.0      3.0      0.0      susceptible_pop_norm = np.zeros(days)\n",
    "    64         1          2.0      2.0      0.0      recovered_pop_norm = np.zeros(days)\n",
    "    65                                           \n",
    "    66         1          0.0      0.0      0.0      for time_step in range(days):\n",
    "    67       100     877018.0   8770.2     22.9          infected_mat = np.array([SIR_nsim[:,1],]*locs_len).transpose()\n",
    "    68       100    1033410.0  10334.1     27.0          OD_infected = OD*infected_mat\n",
    "    69       100     913327.0   9133.3     23.8          OD_infected = np.round(OD_infected)\n",
    "    70       100     180775.0   1807.8      4.7          inflow_infected = OD_infected.sum(axis=0)\n",
    "    71       100       2869.0     28.7      0.1          inflow_infected = np.round(inflow_infected*public_trans_vec)\n",
    "    72                                                   #print('total infected inflow: ', inflow_infected.sum())\n",
    "    73       100     177611.0   1776.1      4.6          new_infect = beta_vec*SIR_sim[:, 0]*inflow_infected/(N_k + OD.sum(axis=0))\n",
    "    74       100       1073.0     10.7      0.0          new_recovered = gamma_vec*SIR_sim[:, 1]\n",
    "    75       100       1873.0     18.7      0.0          new_infect = np.where(new_infect>SIR_sim[:, 0], SIR_sim[:, 0], new_infect)\n",
    "    76       100        854.0      8.5      0.0          SIR_sim[:, 0] = SIR_sim[:, 0] - new_infect\n",
    "    77       100        827.0      8.3      0.0          SIR_sim[:, 1] = SIR_sim[:, 1] + new_infect - new_recovered\n",
    "    78       100        598.0      6.0      0.0          SIR_sim[:, 2] = SIR_sim[:, 2] + new_recovered\n",
    "    79       100       2265.0     22.6      0.1          SIR_sim = np.where(SIR_sim<0,0,SIR_sim)\n",
    "    80                                                   # recompute the normalized SIR matrix\n",
    "    81       100       3985.0     39.9      0.1          row_sums = SIR_sim.sum(axis=1)\n",
    "    82       100       2049.0     20.5      0.1          SIR_nsim = SIR_sim / row_sums[:, np.newaxis]\n",
    "    83       100       1483.0     14.8      0.0          S = SIR_sim[:,0].sum()/N_k.sum()\n",
    "    84       100        943.0      9.4      0.0          I = SIR_sim[:,1].sum()/N_k.sum()\n",
    "    85       100        881.0      8.8      0.0          R = SIR_sim[:,2].sum()/N_k.sum()\n",
    "    86                                                   #print(S, I, R, (S+I+R)*N_k.sum(), N_k.sum())\n",
    "    87                                                   #print('\\n')\n",
    "    88       100         57.0      0.6      0.0          infected_pop_norm[time_step] = I \n",
    "    89       100         57.0      0.6      0.0          susceptible_pop_norm[time_step] = S \n",
    "    90       100         53.0      0.5      0.0          recovered_pop_norm[time_step] = R\n",
    "    91                                               \n",
    "    92         1      87890.0  87890.0      2.3      plot_SIR_curve(infected_pop_norm, susceptible_pop_norm, recovered_pop_norm, days)\n",
    "    93         1       8016.0   8016.0      0.2      return infected_pop_norm, susceptible_pop_norm, recovered_pop_norm"
   ]
  },
  {
   "cell_type": "markdown",
   "metadata": {},
   "source": [
    "By using Cython, changing how the OD matrix is loaded into the program, and removing the unnecessary tqdm functionality to show progress, we half the time it takes to run a simulation ($\\approx 3.7$s). Examining the line profiling results, we see that time spent loading in the matrix is reduced (now $\\approx 13.9\\%$). Also notice that the percentages of time spent between rounding OD_infected and computing OD_infected are closer together, which suggests that we were able to speed up the elmentwise multiplication using Cython."
   ]
  },
  {
   "cell_type": "code",
   "execution_count": null,
   "metadata": {},
   "outputs": [],
   "source": []
  }
 ],
 "metadata": {
  "kernelspec": {
   "display_name": "Python 3",
   "language": "python",
   "name": "python3"
  },
  "language_info": {
   "codemirror_mode": {
    "name": "ipython",
    "version": 3
   },
   "file_extension": ".py",
   "mimetype": "text/x-python",
   "name": "python",
   "nbconvert_exporter": "python",
   "pygments_lexer": "ipython3",
   "version": "3.7.6"
  }
 },
 "nbformat": 4,
 "nbformat_minor": 4
}
